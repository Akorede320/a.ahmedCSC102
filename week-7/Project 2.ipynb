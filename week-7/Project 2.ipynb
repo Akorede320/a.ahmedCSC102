{
 "cells": [
  {
   "cell_type": "code",
   "execution_count": 9,
   "id": "517d6391-aa66-423d-9309-45ffc8d8ed74",
   "metadata": {},
   "outputs": [
    {
     "name": "stdout",
     "output_type": "stream",
     "text": [
      "Product catalog saved as 'cadbury_market.csv'\n"
     ]
    }
   ],
   "source": [
    "import pandas as pd\n",
    "\n",
    "# Define the data for each category\n",
    "data = {'Segment': ['Refreshment Beverages', 'Refreshment Beverages','Confectionery', 'Confectionery', 'Confectionery','Intermediate Cocoa Products', 'Intermediate Cocoa Products', 'Intermediate Cocoa Products', 'Intermediate Cocoa Products'],\n",
    "        'Product Type': ['Beverage', 'Beverage','Candy', 'Candy', 'Candy','Cocoa Product', 'Cocoa Product', 'Cocoa Product', 'Cocoa Product'],\n",
    "        'Brand': ['CADBURY BOURNVITA', 'CADBURY 3-in-1 HOT CHOCOLATE','TOMTOM CLASSIC', 'TOMTOM STRAWBERRY', 'BUTTERMINT','COCOA POWDER', 'COCOA BUTTER', 'COCOA LIQUOR', 'COCOA CAKE'],\n",
    "        'Export Status': ['Local', 'Local','Local', 'Local', 'Local','Local', 'Export', 'Export', 'Export']}\n",
    "\n",
    "# Create the DataFrame\n",
    "df = pd.DataFrame(data)\n",
    "\n",
    "# Save to CSV file\n",
    "df.to_csv(\"cadbury_market.csv\", index=False)\n",
    "\n",
    "print(\"Product catalog saved as 'cadbury_market.csv'\")\n"
   ]
  },
  {
   "cell_type": "code",
   "execution_count": null,
   "id": "cd71513d-7724-4584-b245-b1493db6268d",
   "metadata": {},
   "outputs": [],
   "source": []
  }
 ],
 "metadata": {
  "kernelspec": {
   "display_name": "Python [conda env:base] *",
   "language": "python",
   "name": "conda-base-py"
  },
  "language_info": {
   "codemirror_mode": {
    "name": "ipython",
    "version": 3
   },
   "file_extension": ".py",
   "mimetype": "text/x-python",
   "name": "python",
   "nbconvert_exporter": "python",
   "pygments_lexer": "ipython3",
   "version": "3.12.7"
  }
 },
 "nbformat": 4,
 "nbformat_minor": 5
}
