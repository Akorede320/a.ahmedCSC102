{
 "cells": [
  {
   "cell_type": "code",
   "execution_count": 1,
   "id": "41003806-19be-4ff7-a19f-ddbac6212352",
   "metadata": {},
   "outputs": [
    {
     "name": "stdin",
     "output_type": "stream",
     "text": [
      "Enter name of City 1:  new york \n",
      "Enter name of City 2:  california\n"
     ]
    },
    {
     "name": "stdout",
     "output_type": "stream",
     "text": [
      "The name of City 1 after swapping is california\n",
      "The name of City 2 after swapping is new york \n"
     ]
    }
   ],
   "source": [
    "# Python program to swap two cities\n",
    "\n",
    "# To take inputs from the user\n",
    "city_1 = input('Enter name of City 1: ')\n",
    "city_2 = input('Enter name of City 2: ')\n",
    "\n",
    "# Create a temporary variable and swap the cities\n",
    "temp = city_1\n",
    "city_1 = city_2\n",
    "city_2 = temp\n",
    "\n",
    "print(f\"The name of City 1 after swapping is {city_1}\")\n",
    "print(f\"The name of City 2 after swapping is {city_2}\")\n"
   ]
  },
  {
   "cell_type": "code",
   "execution_count": 3,
   "id": "def1e8f0-6553-48b1-aff4-9b8cfda94189",
   "metadata": {},
   "outputs": [
    {
     "name": "stdin",
     "output_type": "stream",
     "text": [
      "Enter a number 21\n"
     ]
    },
    {
     "name": "stdout",
     "output_type": "stream",
     "text": [
      "Positive number\n"
     ]
    }
   ],
   "source": [
    "# Program to Check if a Number is Positive, Negative or 0\n",
    "\n",
    "num = float(input(\"Enter a number\"))\n",
    "if num > 0:\n",
    "    print (\"Positive number\")\n",
    "elif num == 0:\n",
    "    print (\"Zero\")\n",
    "else:\n",
    "    print(\"Negative number\")"
   ]
  },
  {
   "cell_type": "code",
   "execution_count": 5,
   "id": "b29f1739-3f1f-4253-b579-2e709bc18de9",
   "metadata": {},
   "outputs": [
    {
     "name": "stdout",
     "output_type": "stream",
     "text": [
      "Welcome to the COUPE DE ESCRIVA 2023: FOOTBALL PICKS \n",
      "\n",
      "Madiba Chubby Obiora-Okafo\n",
      "Blue-Jays Christopher Uweh\n",
      "Cirok Alexander\n",
      "TSG Walkers Ikechukwu\n",
      "\n",
      "\n",
      "Madiba Chubby Obiora-Okafo\n",
      "Blue-Jays Oladimeji Abaniwondea/Jeffery Awagu\n",
      "Cirok Timileyin Pearse/Izuako Jeremy\n",
      "TSG Walkers Ayomide Ojituku\n"
     ]
    }
   ],
   "source": [
    "# COUPE DE ESCRIVA 2023: FOOTBALL PICKS\n",
    "\n",
    "print(\"Welcome to the COUPE DE ESCRIVA 2023: FOOTBALL PICKS \\n\")\n",
    "\n",
    "captain = {'Madiba': 'Chubby Obiora-Okafo', 'Blue-Jays': 'Christopher Uweh',\n",
    "           'Cirok': 'Alexander', 'TSG Walkers': 'Ikechukwu'}\n",
    "\n",
    "goalkeepers = {'Madiba': 'Chubby Obiora-Okafo',\n",
    "               'Blue-Jays': 'Oladimeji Abaniwondea/Jeffery Awagu',\n",
    "               'Cirok': 'Timileyin Pearse/Izuako Jeremy',\n",
    "               'TSG Walkers': 'Ayomide Ojituku'}\n",
    "\n",
    "for pick in captain:\n",
    "    print(pick, captain[pick])\n",
    "\n",
    "print(\"\\n\")\n",
    "\n",
    "for pick in goalkeepers:\n",
    "    print(pick, goalkeepers[pick])\n"
   ]
  },
  {
   "cell_type": "code",
   "execution_count": null,
   "id": "073b1863-5b10-424b-8fb3-7bd311fc0c8f",
   "metadata": {},
   "outputs": [],
   "source": []
  }
 ],
 "metadata": {
  "kernelspec": {
   "display_name": "Python [conda env:base] *",
   "language": "python",
   "name": "conda-base-py"
  },
  "language_info": {
   "codemirror_mode": {
    "name": "ipython",
    "version": 3
   },
   "file_extension": ".py",
   "mimetype": "text/x-python",
   "name": "python",
   "nbconvert_exporter": "python",
   "pygments_lexer": "ipython3",
   "version": "3.12.7"
  }
 },
 "nbformat": 4,
 "nbformat_minor": 5
}
