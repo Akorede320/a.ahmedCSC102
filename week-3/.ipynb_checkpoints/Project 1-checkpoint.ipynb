{
 "cells": [
  {
   "cell_type": "code",
   "execution_count": 17,
   "id": "37a2dc8c-f29e-4bb0-b3ac-355ece982295",
   "metadata": {},
   "outputs": [
    {
     "name": "stdout",
     "output_type": "stream",
     "text": [
      "Girls' Data:\n",
      "   Name  Age  Height  Score\n",
      " Evelyn   17     5.5     80\n",
      "Jessica   16     6.0     85\n",
      "  Somto   17     5.4     70\n",
      "  Edith   18     5.9     60\n",
      "   Liza   16     5.6     76\n",
      "Madonna   18     5.5     68\n",
      "   Waje   17     5.5     87\n",
      "   Tola   20     6.0     95\n",
      "  Aisha   19     5.7     50\n",
      " Latifa   17     5.5     49\n",
      "\n",
      "Boys' Data:\n",
      "   Name  Age  Height  Score\n",
      "Chinedu   19     5.7     74\n",
      "   Liam   16     5.9     87\n",
      "   Wale   18     5.8     75\n",
      " Gbenga   17     6.1     68\n",
      " Abiola   20     5.5     66\n",
      "   Kola   19     5.5     78\n",
      "  Kunle   16     5.4     98\n",
      " George   18     5.8     54\n",
      " Thomas   17     5.5     60\n",
      " Wesley   19     5.7     60\n"
     ]
    }
   ],
   "source": [
    "import pandas as pd\n",
    "\n",
    "# girls\n",
    "girls_data = {\n",
    "    \"Name\": [\"Evelyn\", \"Jessica\", \"Somto\", \"Edith\", \"Liza\", \"Madonna\", \"Waje\", \"Tola\", \"Aisha\", \"Latifa\"],\n",
    "    \"Age\": [17, 16, 17, 18, 16, 18, 17, 20, 19, 17],\n",
    "    \"Height\": [5.5, 6.0, 5.4, 5.9, 5.6, 5.5, 5.5, 6.0, 5.7, 5.5],\n",
    "    \"Score\": [80, 85, 70, 60, 76, 68, 87, 95, 50, 49]\n",
    "}\n",
    "\n",
    "# boys\n",
    "boys_data = {\n",
    "    \"Name\": [\"Chinedu\", \"Liam\", \"Wale\", \"Gbenga\", \"Abiola\", \"Kola\", \"Kunle\", \"George\", \"Thomas\", \"Wesley\"],\n",
    "    \"Age\": [19, 16, 18, 17, 20, 19, 16, 18, 17, 19],\n",
    "    \"Height\": [5.7, 5.9, 5.8, 6.1, 5.5, 5.5, 5.4, 5.8, 5.5, 5.7],\n",
    "    \"Score\": [74, 87, 75, 68, 66, 78, 98, 54, 60, 60]\n",
    "}\n",
    "\n",
    "df_girls = pd.DataFrame(girls_data)\n",
    "df_boys = pd.DataFrame(boys_data)\n",
    "\n",
    "print(\"Girls' Data:\")\n",
    "print(df_girls.to_string(index=False))\n",
    "\n",
    "print(\"\\nBoys' Data:\")\n",
    "print(df_boys.to_string(index=False))\n"
   ]
  },
  {
   "cell_type": "code",
   "execution_count": null,
   "id": "3e3a8191-56e0-4d4d-b7d8-0b7db8df0a40",
   "metadata": {},
   "outputs": [],
   "source": []
  }
 ],
 "metadata": {
  "kernelspec": {
   "display_name": "Python [conda env:base] *",
   "language": "python",
   "name": "conda-base-py"
  },
  "language_info": {
   "codemirror_mode": {
    "name": "ipython",
    "version": 3
   },
   "file_extension": ".py",
   "mimetype": "text/x-python",
   "name": "python",
   "nbconvert_exporter": "python",
   "pygments_lexer": "ipython3",
   "version": "3.12.7"
  }
 },
 "nbformat": 4,
 "nbformat_minor": 5
}
