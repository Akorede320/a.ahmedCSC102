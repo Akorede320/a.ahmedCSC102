{
 "cells": [
  {
   "cell_type": "code",
   "execution_count": 10,
   "id": "5088b227-1d73-4563-b4e7-f64f9210af0e",
   "metadata": {},
   "outputs": [
    {
     "name": "stdin",
     "output_type": "stream",
     "text": [
      "Enter years of experience:  5\n",
      "Enter age:  32\n"
     ]
    },
    {
     "name": "stdout",
     "output_type": "stream",
     "text": [
      "Annual Tax Revenue (ATR): N550,000\n"
     ]
    }
   ],
   "source": [
    "def calculate_atr(years_of_experience, age):\n",
    "    if years_of_experience > 25 and age >= 55:\n",
    "        return 5_600_000\n",
    "    elif years_of_experience > 20 and age >= 45:\n",
    "        return 4_480_000\n",
    "    elif years_of_experience > 10 and age >= 35:\n",
    "        return 1_500_000\n",
    "    else:\n",
    "        return 550_000\n",
    "\n",
    "# Get user input\n",
    "try:\n",
    "    years_of_experience = int(input(\"Enter years of experience: \"))\n",
    "    age = int(input(\"Enter age: \"))\n",
    "    \n",
    "    # Calculate ATR\n",
    "    atr = calculate_atr(years_of_experience, age)\n",
    "    \n",
    "    print(f\"Annual Tax Revenue (ATR): N{atr:,}\")\n",
    "except ValueError:\n",
    "    print(\"Invalid input. Please enter valid numbers for years of experience and age.\")"
   ]
  },
  {
   "cell_type": "code",
   "execution_count": null,
   "id": "4c6985fd-aebd-4780-906d-b7bf45791fce",
   "metadata": {},
   "outputs": [],
   "source": []
  }
 ],
 "metadata": {
  "kernelspec": {
   "display_name": "Python [conda env:base] *",
   "language": "python",
   "name": "conda-base-py"
  },
  "language_info": {
   "codemirror_mode": {
    "name": "ipython",
    "version": 3
   },
   "file_extension": ".py",
   "mimetype": "text/x-python",
   "name": "python",
   "nbconvert_exporter": "python",
   "pygments_lexer": "ipython3",
   "version": "3.12.7"
  }
 },
 "nbformat": 4,
 "nbformat_minor": 5
}
