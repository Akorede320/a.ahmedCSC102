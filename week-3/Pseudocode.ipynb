{
 "cells": [
  {
   "cell_type": "markdown",
   "id": "3b48c3a4-4f28-4012-9864-08b6a8ca4c43",
   "metadata": {},
   "source": [
    "BEGIN\n",
    "DEFINE girls_data AS DICTIONARY\n",
    "        \"Name\": [\"Evelyn\", \"Jessica\", \"Somto\", \"Edith\", \"Liza\", \"Madonna\", \"Waje\", \"Tola\", \"Aisha\", \"Latifa\"]\n",
    "        \"Age\": [17, 16, 17, 18, 16, 18, 17, 20, 19, 17]\n",
    "        \"Height\": [5.5, 6.0, 5.4, 5.9, 5.6, 5.5, 5.5, 6.0, 5.7, 5.5]\n",
    "        \"Score\": [80, 85, 70, 60, 76, 68, 87, 95, 50, 49]\n",
    "\n",
    "DEFINE boys_data AS DICTIONARY\n",
    "        \"Name\": [\"Chinedu\", \"Liam\", \"Wale\", \"Gbenga\", \"Abiola\", \"Kola\", \"Kunle\", \"George\", \"Thomas\", \"Wesley\"]\n",
    "        \"Age\": [19, 16, 18, 17, 20, 19, 16, 18, 17, 19]\n",
    "        \"Height\": [5.7, 5.9, 5.8, 6.1, 5.5, 5.5, 5.4, 5.8, 5.5, 5.7]\n",
    "        \"Score\": [74, 87, 75, 68, 66, 78, 98, 54, 60, 60]\n",
    "\n",
    "    \n",
    "SET df_girls = CONVERT_TO_DATAFRAME(girls_data)\n",
    "SET df_boys = CONVERT_TO_DATAFRAME(boys_data)\n",
    "\n",
    "    \n",
    "PRINT \"Girls' Data:\"\n",
    "PRINT CONVERT_TO_STRING(df_girls, REMOVE_INDEX=True)\n",
    "\n",
    "PRINT \"Boys' Data:\"\n",
    "PRINT CONVERT_TO_STRING(df_boys, REMOVE_INDEX=True)\n",
    "\n",
    "END\n"
   ]
  }
 ],
 "metadata": {
  "kernelspec": {
   "display_name": "Python [conda env:base] *",
   "language": "python",
   "name": "conda-base-py"
  },
  "language_info": {
   "codemirror_mode": {
    "name": "ipython",
    "version": 3
   },
   "file_extension": ".py",
   "mimetype": "text/x-python",
   "name": "python",
   "nbconvert_exporter": "python",
   "pygments_lexer": "ipython3",
   "version": "3.12.7"
  }
 },
 "nbformat": 4,
 "nbformat_minor": 5
}
