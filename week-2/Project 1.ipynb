{
 "cells": [
  {
   "cell_type": "code",
   "execution_count": null,
   "id": "a094dcc3-da40-4d5e-baa2-cc756863c8f8",
   "metadata": {},
   "outputs": [
    {
     "name": "stdout",
     "output_type": "stream",
     "text": [
      "\n",
      "What type of equation do you want to solve?\n",
      "1. Quadratic Equation\n",
      "2. Cubic Equation\n",
      "3. Quartic Equation\n",
      "4. Exit\n"
     ]
    },
    {
     "name": "stdin",
     "output_type": "stream",
     "text": [
      "Enter your choice (1/2/3/4):  1\n"
     ]
    },
    {
     "name": "stdout",
     "output_type": "stream",
     "text": [
      "\n",
      "Quadratic Equation: Ax² + Bx + C = 0\n"
     ]
    },
    {
     "name": "stdin",
     "output_type": "stream",
     "text": [
      "Enter coefficient A:  2\n",
      "Enter coefficient B:  3\n",
      "Enter coefficient C:  4\n"
     ]
    },
    {
     "name": "stdout",
     "output_type": "stream",
     "text": [
      "The roots are: -0.75 ± 1.1989578808281798i\n",
      "\n",
      "What type of equation do you want to solve?\n",
      "1. Quadratic Equation\n",
      "2. Cubic Equation\n",
      "3. Quartic Equation\n",
      "4. Exit\n"
     ]
    }
   ],
   "source": [
    "import numpy as np  \n",
    "\n",
    "\n",
    "def solve_quadratic():\n",
    "    print(\"\\nQuadratic Equation: Ax² + Bx + C = 0\")\n",
    "    a = float(input(\"Enter coefficient A: \"))\n",
    "    b = float(input(\"Enter coefficient B: \"))\n",
    "    c = float(input(\"Enter coefficient C: \"))\n",
    "    \n",
    "    if a == 0:\n",
    "        print(\"This is not a quadratic equation\")\n",
    "        return\n",
    "\n",
    "    #calculating the discriminant\n",
    "    d = b ** 2 - 4 * a * c\n",
    "    \n",
    "    if d > 0:\n",
    "        root1 = (-b + np.sqrt(d)) / (2 * a)\n",
    "        root2 = (-b - np.sqrt(d)) / (2 * a)\n",
    "        print(f\"The roots are: {root1} and {root2}\")\n",
    "    elif d == 0:\n",
    "        root = -b / (2 * a)\n",
    "        print(f\"The root is: {root}\")\n",
    "    else:\n",
    "        real = -b / (2 * a)\n",
    "        imaginary = np.sqrt(abs(d)) / (2 * a)\n",
    "        print(f\"The roots are: {real} ± {imaginary}i\")\n",
    "\n",
    "\n",
    "def solve_cubic():\n",
    "    print(\"\\nCubic Equation: Ax³ + Bx² + Cx + D = 0\")\n",
    "    \n",
    "    a = float(input(\"Enter coefficient A: \"))\n",
    "    b = float(input(\"Enter coefficient B: \"))\n",
    "    c = float(input(\"Enter coefficient C: \"))\n",
    "    d = float(input(\"Enter coefficient D: \"))\n",
    "\n",
    "    if a == 0:\n",
    "        print(\"This is not a cubic equation\")\n",
    "        return\n",
    "        \n",
    "    coefficients = [a, b, c, d]\n",
    "    roots = np.roots(coefficients)\n",
    "    \n",
    "    print(\"The roots of the cubic equation are:\", roots)\n",
    "\n",
    "\n",
    "def solve_quartic():\n",
    "    print(\"\\nQuartic Equation: Ax⁴ + Bx³ + Cx² + Dx + E = 0\")\n",
    "    \n",
    "    \n",
    "    a = float(input(\"Enter coefficient A: \"))\n",
    "    b = float(input(\"Enter coefficient B: \"))\n",
    "    c = float(input(\"Enter coefficient C: \"))\n",
    "    d = float(input(\"Enter coefficient D: \"))\n",
    "    e = float(input(\"Enter coefficient E: \"))\n",
    "\n",
    "    if a == 0:\n",
    "        print(\"This is not a quartic equation\")\n",
    "        return\n",
    "    \n",
    "    coefficients = [a, b, c, d, e]\n",
    "    roots = np.roots(coefficients)\n",
    "    \n",
    "    print(\"The roots of the quartic equation are:\", roots)\n",
    "\n",
    "\n",
    "def main():\n",
    "    while True:\n",
    "        print(\"\\nWhat type of equation do you want to solve?\")\n",
    "        print(\"1. Quadratic Equation\")\n",
    "        print(\"2. Cubic Equation\")\n",
    "        print(\"3. Quartic Equation\")\n",
    "        print(\"4. Exit\")\n",
    "\n",
    "        choice = input(\"Enter your choice (1/2/3/4): \")\n",
    "        \n",
    "        if choice == '1':\n",
    "            solve_quadratic()  \n",
    "        elif choice == '2':\n",
    "            solve_cubic()  \n",
    "        elif choice == '3':\n",
    "            solve_quartic()  \n",
    "        elif choice == '4':\n",
    "            print(\"Goodbye!\")  \n",
    "            break \n",
    "        else:\n",
    "            print(\"Invalid choice, try again\")\n",
    "\n",
    "if __name__ == \"__main__\":\n",
    "    main()\n",
    "\n"
   ]
  },
  {
   "cell_type": "code",
   "execution_count": null,
   "id": "8bd40e09-63d3-4829-a237-9c34f8eaf60e",
   "metadata": {},
   "outputs": [],
   "source": []
  },
  {
   "cell_type": "code",
   "execution_count": null,
   "id": "8715ca53-d3d6-4805-8a7b-66695e6f5015",
   "metadata": {},
   "outputs": [],
   "source": []
  }
 ],
 "metadata": {
  "kernelspec": {
   "display_name": "Python [conda env:base] *",
   "language": "python",
   "name": "conda-base-py"
  },
  "language_info": {
   "codemirror_mode": {
    "name": "ipython",
    "version": 3
   },
   "file_extension": ".py",
   "mimetype": "text/x-python",
   "name": "python",
   "nbconvert_exporter": "python",
   "pygments_lexer": "ipython3",
   "version": "3.12.7"
  }
 },
 "nbformat": 4,
 "nbformat_minor": 5
}
