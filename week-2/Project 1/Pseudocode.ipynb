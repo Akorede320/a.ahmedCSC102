{
 "cells": [
  {
   "cell_type": "markdown",
   "id": "dd0efc8b-0ba9-4bac-8ae3-93e01e574482",
   "metadata": {},
   "source": [
    "START\n",
    "\n",
    "DISPLAY \"Welcome to Checkout\"\n",
    "\n",
    "SET total_cost to 0\n",
    "\n",
    "DISPLAY \"How many items are you purchasing?\"\n",
    "INPUT number_of_items\n",
    "\n",
    "FOR each item from 1 to number_of_items:\n",
    "    DISPLAY \"Enter item name:\"\n",
    "    INPUT item_name\n",
    "    \n",
    "    DISPLAY \"Enter item price:\"\n",
    "    INPUT item_price\n",
    "    \n",
    "    DISPLAY \"Enter item quantity:\"\n",
    "    INPUT item_quantity\n",
    "    \n",
    "    CALCULATE item_total = item_price * item_quantity\n",
    "    ADD item_total to total_cost\n",
    "\n",
    "DISPLAY \"Your total bill is: \", total_cost\n",
    "\n",
    "DISPLAY \"Enter payment amount:\"\n",
    "INPUT amount_paid\n",
    "\n",
    "IF amount_paid >= total_cost:\n",
    "    CALCULATE change = amount_paid - total_cost\n",
    "    DISPLAY \"Payment successful!\"\n",
    "    DISPLAY \"Your change is: \", change\n",
    "    \n",
    "    DISPLAY \"Would you like a receipt? (yes/no)\"\n",
    "    INPUT receipt_choice\n",
    "    \n",
    "    IF receipt_choice == \"yes\":\n",
    "        DISPLAY \"Generating receipt...\"\n",
    "        DISPLAY \"Items Purchased:\"\n",
    "        FOR each item:\n",
    "            DISPLAY item_name, item_price, item_quantity\n",
    "        DISPLAY \"Total Amount: \", total_amount\n",
    "        DISPLAY \"Amount Paid: \", amount_paid\n",
    "        DISPLAY \"Change: \", change\n",
    "        DISPLAY \"Thank you for shopping with us!\"\n",
    "ELSE:\n",
    "    DISPLAY \"Insufficient payment. Please pay the full amount.\"\n",
    "\n",
    "END\n"
   ]
  },
  {
   "cell_type": "code",
   "execution_count": null,
   "id": "590c6781-6d3a-4168-a3e5-9e57a951629b",
   "metadata": {},
   "outputs": [],
   "source": []
  }
 ],
 "metadata": {
  "kernelspec": {
   "display_name": "Python [conda env:base] *",
   "language": "python",
   "name": "conda-base-py"
  },
  "language_info": {
   "codemirror_mode": {
    "name": "ipython",
    "version": 3
   },
   "file_extension": ".py",
   "mimetype": "text/x-python",
   "name": "python",
   "nbconvert_exporter": "python",
   "pygments_lexer": "ipython3",
   "version": "3.12.7"
  }
 },
 "nbformat": 4,
 "nbformat_minor": 5
}
