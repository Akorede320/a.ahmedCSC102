{
 "cells": [
  {
   "cell_type": "markdown",
   "id": "75ad45db-9e6e-4078-b6a6-7808345e8f9e",
   "metadata": {},
   "source": [
    "START\n",
    "\n",
    "    PROMPT \"Enter first person's name: \"\n",
    "    INPUT name1\n",
    "    PROMPT \"Enter first person's age: \"\n",
    "    INPUT age1\n",
    "\n",
    "    PROMPT \"Enter second person's name: \"\n",
    "    INPUT name2\n",
    "    PROMPT \"Enter second person's age: \"\n",
    "    INPUT age2\n",
    "\n",
    "    DISPLAY \"Before Swapping:\"\n",
    "    DISPLAY name1, \"is\", age1, \"years old\"\n",
    "    DISPLAY name2, \"is\", age2, \"years old\"\n",
    "\n",
    "    SET temp = age1\n",
    "    SET age1 = age2\n",
    "    SET age2 = temp\n",
    "\n",
    "    DISPLAY \"After Swapping:\"\n",
    "    DISPLAY name1, \"is now\", age1, \"years old\"\n",
    "    DISPLAY name2, \"is now\", age2, \"years old\"\n",
    "\n",
    "END\n"
   ]
  }
 ],
 "metadata": {
  "kernelspec": {
   "display_name": "Python [conda env:base] *",
   "language": "python",
   "name": "conda-base-py"
  },
  "language_info": {
   "codemirror_mode": {
    "name": "ipython",
    "version": 3
   },
   "file_extension": ".py",
   "mimetype": "text/x-python",
   "name": "python",
   "nbconvert_exporter": "python",
   "pygments_lexer": "ipython3",
   "version": "3.12.7"
  }
 },
 "nbformat": 4,
 "nbformat_minor": 5
}
